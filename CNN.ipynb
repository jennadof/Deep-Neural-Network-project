{
  "nbformat": 4,
  "nbformat_minor": 0,
  "metadata": {
    "colab": {
      "name": "CNN.ipynb",
      "provenance": [],
      "authorship_tag": "ABX9TyNJeu+kHx2q+TyemATzRolP",
      "include_colab_link": true
    },
    "kernelspec": {
      "name": "python3",
      "display_name": "Python 3"
    },
    "language_info": {
      "name": "python"
    }
  },
  "cells": [
    {
      "cell_type": "markdown",
      "metadata": {
        "id": "view-in-github",
        "colab_type": "text"
      },
      "source": [
        "<a href=\"https://colab.research.google.com/github/jennadof/Deep-Neural-Network-project/blob/main/CNN.ipynb\" target=\"_parent\"><img src=\"https://colab.research.google.com/assets/colab-badge.svg\" alt=\"Open In Colab\"/></a>"
      ]
    },
    {
      "cell_type": "code",
      "execution_count": 217,
      "metadata": {
        "colab": {
          "base_uri": "https://localhost:8080/"
        },
        "id": "L46NX947MIYc",
        "outputId": "b59aac77-c63b-41ff-ae6f-d9d94138a66a"
      },
      "outputs": [
        {
          "output_type": "stream",
          "name": "stdout",
          "text": [
            "Train: X = (60000, 28, 28), y = (60000,)\n",
            "Test: X = (10000, 28, 28), y = (10000,)\n"
          ]
        }
      ],
      "source": [
        "from keras.datasets import mnist \n",
        "\n",
        "(trainsetX, trainsety),(testsetX,testsety) = mnist.load_data()\n",
        "\n",
        "print('Train: X = {}, y = {}'.format(trainsetX.shape, trainsety.shape)) \n",
        "print('Test: X = {}, y = {}'.format(testsetX.shape, testsety.shape))"
      ]
    },
    {
      "cell_type": "code",
      "source": [
        "import os\n",
        "import matplotlib.pyplot as plt\n",
        "plt.imshow(trainsetX[50])\n",
        "plt.show()\n"
      ],
      "metadata": {
        "colab": {
          "base_uri": "https://localhost:8080/",
          "height": 265
        },
        "id": "B0MnlnaIaJuj",
        "outputId": "c576e443-0cf0-4c04-8544-7e6322f947b8"
      },
      "execution_count": 218,
      "outputs": [
        {
          "output_type": "display_data",
          "data": {
            "text/plain": [
              "<Figure size 432x288 with 1 Axes>"
            ],
            "image/png": "[encoded data removed]"
          },
          "metadata": {
            "needs_background": "light"
          }
        }
      ]
    },
    {
      "cell_type": "code",
      "source": [
        "print(trainsety[50])"
      ],
      "metadata": {
        "colab": {
          "base_uri": "https://localhost:8080/"
        },
        "id": "0ofY2pdJfkMX",
        "outputId": "540f9814-69be-4a63-db65-fa59e53ab64b"
      },
      "execution_count": 219,
      "outputs": [
        {
          "output_type": "stream",
          "name": "stdout",
          "text": [
            "3\n"
          ]
        }
      ]
    },
    {
      "cell_type": "code",
      "source": [
        "import tensorflow as tf\n",
        "from keras.preprocessing.image import ImageDataGenerator"
      ],
      "metadata": {
        "id": "DmPZJ6bhQMVc"
      },
      "execution_count": 220,
      "outputs": []
    },
    {
      "cell_type": "code",
      "source": [
        "tf.__version__"
      ],
      "metadata": {
        "colab": {
          "base_uri": "https://localhost:8080/",
          "height": 35
        },
        "id": "kZoAghQLQhcm",
        "outputId": "7c1279ee-6426-47fa-ced0-5beac9005034"
      },
      "execution_count": 221,
      "outputs": [
        {
          "output_type": "execute_result",
          "data": {
            "text/plain": [
              "'2.8.0'"
            ],
            "application/vnd.google.colaboratory.intrinsic+json": {
              "type": "string"
            }
          },
          "metadata": {},
          "execution_count": 221
        }
      ]
    },
    {
      "cell_type": "code",
      "source": [
        "import tensorflow as tf\n",
        "tf.test.gpu_device_name()"
      ],
      "metadata": {
        "colab": {
          "base_uri": "https://localhost:8080/",
          "height": 35
        },
        "id": "KHEzbh0lVR-u",
        "outputId": "dfbb12ee-fb4b-4c0d-9e04-a7a0502d5c4b"
      },
      "execution_count": 222,
      "outputs": [
        {
          "output_type": "execute_result",
          "data": {
            "text/plain": [
              "''"
            ],
            "application/vnd.google.colaboratory.intrinsic+json": {
              "type": "string"
            }
          },
          "metadata": {},
          "execution_count": 222
        }
      ]
    },
    {
      "cell_type": "code",
      "source": [
        "from google.colab import drive\n",
        "drive.mount('/content/data')"
      ],
      "metadata": {
        "id": "b_vP2fiFWd3U",
        "colab": {
          "base_uri": "https://localhost:8080/"
        },
        "outputId": "a6340ded-cf84-49c3-f7bd-28c821766a07"
      },
      "execution_count": 223,
      "outputs": [
        {
          "output_type": "stream",
          "name": "stdout",
          "text": [
            "Drive already mounted at /content/data; to attempt to forcibly remount, call drive.mount(\"/content/data\", force_remount=True).\n"
          ]
        }
      ]
    },
    {
      "cell_type": "code",
      "source": [
        "x_train = tf.keras.utils.normalize(trainsetX, axis=1)\n",
        "x_test = tf.keras.utils.normalize(testsetX, axis=1)"
      ],
      "metadata": {
        "id": "hxPTZj_hcytY"
      },
      "execution_count": 224,
      "outputs": []
    },
    {
      "cell_type": "code",
      "source": [
        "x_train.shape"
      ],
      "metadata": {
        "colab": {
          "base_uri": "https://localhost:8080/"
        },
        "id": "_dvAa_27y8cT",
        "outputId": "932fb090-3efa-43f6-b349-d88c9565bf4b"
      },
      "execution_count": 225,
      "outputs": [
        {
          "output_type": "execute_result",
          "data": {
            "text/plain": [
              "(60000, 28, 28)"
            ]
          },
          "metadata": {},
          "execution_count": 225
        }
      ]
    },
    {
      "cell_type": "code",
      "source": [
        "plt.matshow(x_test[0])"
      ],
      "metadata": {
        "colab": {
          "base_uri": "https://localhost:8080/",
          "height": 292
        },
        "id": "H2V9k3cOHoEK",
        "outputId": "79a2460a-4cfc-4457-979d-c036d2729ce1"
      },
      "execution_count": 226,
      "outputs": [
        {
          "output_type": "execute_result",
          "data": {
            "text/plain": [
              "<matplotlib.image.AxesImage at 0x7f7bfb975fd0>"
            ]
          },
          "metadata": {},
          "execution_count": 226
        },
        {
          "output_type": "display_data",
          "data": {
            "text/plain": [
              "<Figure size 288x288 with 1 Axes>"
            ],
            "image/png": "[encoded data removed]"
          },
          "metadata": {
            "needs_background": "light"
          }
        }
      ]
    },
    {
      "cell_type": "code",
      "source": [
        "#flatten\n",
        "import numpy as np\n",
        "x_train = np.array(x_train).reshape(len(x_train), 28*28)\n",
        "x_test = np.array(x_test).reshape(len(x_test), 28*28)"
      ],
      "metadata": {
        "id": "jcJZPGW1eIZS"
      },
      "execution_count": 227,
      "outputs": []
    },
    {
      "cell_type": "code",
      "source": [
        "print(x_train.shape)\n",
        "print(x_test.shape)"
      ],
      "metadata": {
        "colab": {
          "base_uri": "https://localhost:8080/"
        },
        "id": "r8ChPRhweIeD",
        "outputId": "9ab37a63-2f36-4d10-f7a3-6d50d86c3a05"
      },
      "execution_count": 228,
      "outputs": [
        {
          "output_type": "stream",
          "name": "stdout",
          "text": [
            "(60000, 784)\n",
            "(10000, 784)\n"
          ]
        }
      ]
    },
    {
      "cell_type": "code",
      "source": [
        "x_train"
      ],
      "metadata": {
        "colab": {
          "base_uri": "https://localhost:8080/"
        },
        "id": "A05JI_3dCnlj",
        "outputId": "6a58889b-2793-4e61-d3fc-de2f353f6610"
      },
      "execution_count": 229,
      "outputs": [
        {
          "output_type": "execute_result",
          "data": {
            "text/plain": [
              "array([[0., 0., 0., ..., 0., 0., 0.],\n",
              "       [0., 0., 0., ..., 0., 0., 0.],\n",
              "       [0., 0., 0., ..., 0., 0., 0.],\n",
              "       ...,\n",
              "       [0., 0., 0., ..., 0., 0., 0.],\n",
              "       [0., 0., 0., ..., 0., 0., 0.],\n",
              "       [0., 0., 0., ..., 0., 0., 0.]])"
            ]
          },
          "metadata": {},
          "execution_count": 229
        }
      ]
    },
    {
      "cell_type": "code",
      "source": [
        "x_train"
      ],
      "metadata": {
        "colab": {
          "base_uri": "https://localhost:8080/"
        },
        "id": "LzWiV1O6BEXY",
        "outputId": "b5e7d96a-9f26-4d4b-f982-c1a9eacfbb70"
      },
      "execution_count": 230,
      "outputs": [
        {
          "output_type": "execute_result",
          "data": {
            "text/plain": [
              "array([[0., 0., 0., ..., 0., 0., 0.],\n",
              "       [0., 0., 0., ..., 0., 0., 0.],\n",
              "       [0., 0., 0., ..., 0., 0., 0.],\n",
              "       ...,\n",
              "       [0., 0., 0., ..., 0., 0., 0.],\n",
              "       [0., 0., 0., ..., 0., 0., 0.],\n",
              "       [0., 0., 0., ..., 0., 0., 0.]])"
            ]
          },
          "metadata": {},
          "execution_count": 230
        }
      ]
    },
    {
      "cell_type": "code",
      "source": [
        "cnn = tf.keras.models.Sequential()"
      ],
      "metadata": {
        "id": "e-TAnFb8eIiq"
      },
      "execution_count": 231,
      "outputs": []
    },
    {
      "cell_type": "code",
      "source": [
        "cnn.add(tf.keras.layers.Flatten(  input_shape=x_train.shape[1:]))\n",
        "cnn.add(tf.keras.layers.Dense(128, activation='relu'))"
      ],
      "metadata": {
        "id": "xQT5Huu5eIms"
      },
      "execution_count": 232,
      "outputs": []
    },
    {
      "cell_type": "code",
      "source": [
        "#Full Connection\n",
        "\n",
        "cnn.add(tf.keras.layers.Dense(units=128, activation='relu'))"
      ],
      "metadata": {
        "id": "qAmR5iyRpXl_"
      },
      "execution_count": 233,
      "outputs": []
    },
    {
      "cell_type": "code",
      "source": [
        "#Output Layer\n",
        "\n",
        "cnn.add(tf.keras.layers.Dense(units=10, activation='sigmoid'))"
      ],
      "metadata": {
        "id": "xk_S1LrToHgs"
      },
      "execution_count": 234,
      "outputs": []
    },
    {
      "cell_type": "code",
      "source": [
        "#Model Summary\n",
        "\n",
        "cnn.summary()\n"
      ],
      "metadata": {
        "colab": {
          "base_uri": "https://localhost:8080/"
        },
        "id": "X__RePJipw8U",
        "outputId": "aa87738f-031d-420a-9e95-afbb7c84272b"
      },
      "execution_count": 235,
      "outputs": [
        {
          "output_type": "stream",
          "name": "stdout",
          "text": [
            "Model: \"sequential_5\"\n",
            "_________________________________________________________________\n",
            " Layer (type)                Output Shape              Param #   \n",
            "=================================================================\n",
            " flatten_5 (Flatten)         (None, 784)               0         \n",
            "                                                                 \n",
            " dense_13 (Dense)            (None, 128)               100480    \n",
            "                                                                 \n",
            " dense_14 (Dense)            (None, 128)               16512     \n",
            "                                                                 \n",
            " dense_15 (Dense)            (None, 10)                1290      \n",
            "                                                                 \n",
            "=================================================================\n",
            "Total params: 118,282\n",
            "Trainable params: 118,282\n",
            "Non-trainable params: 0\n",
            "_________________________________________________________________\n"
          ]
        }
      ]
    },
    {
      "cell_type": "code",
      "source": [
        "#TRAINING THE CNN\n",
        "\n",
        "cnn.compile(optimizer = 'adam', loss = 'sparse_categorical_crossentropy', metrics = ['accuracy'])\n"
      ],
      "metadata": {
        "id": "xvX9oOzXqGjk"
      },
      "execution_count": 236,
      "outputs": []
    },
    {
      "cell_type": "code",
      "source": [
        "x_train.shape"
      ],
      "metadata": {
        "colab": {
          "base_uri": "https://localhost:8080/"
        },
        "id": "MD-SvuNfyipF",
        "outputId": "152f502c-1caa-439f-d40c-12f30c5d9b22"
      },
      "execution_count": 237,
      "outputs": [
        {
          "output_type": "execute_result",
          "data": {
            "text/plain": [
              "(60000, 784)"
            ]
          },
          "metadata": {},
          "execution_count": 237
        }
      ]
    },
    {
      "cell_type": "code",
      "source": [
        "trainsety.shape"
      ],
      "metadata": {
        "colab": {
          "base_uri": "https://localhost:8080/"
        },
        "id": "sMQRjYJryy5A",
        "outputId": "5fbf32be-b692-400e-be34-690d6d20b051"
      },
      "execution_count": 238,
      "outputs": [
        {
          "output_type": "execute_result",
          "data": {
            "text/plain": [
              "(60000,)"
            ]
          },
          "metadata": {},
          "execution_count": 238
        }
      ]
    },
    {
      "cell_type": "code",
      "source": [
        "cnn.fit( x_train, trainsety  , epochs = 50)"
      ],
      "metadata": {
        "colab": {
          "base_uri": "https://localhost:8080/"
        },
        "id": "-SFZm_e5rR0u",
        "outputId": "51118c9f-aed5-41f1-a534-f0dde56d9752"
      },
      "execution_count": 239,
      "outputs": [
        {
          "output_type": "stream",
          "name": "stdout",
          "text": [
            "Epoch 1/50\n",
            "1875/1875 [==============================] - 5s 3ms/step - loss: 0.2613 - accuracy: 0.9242\n",
            "Epoch 2/50\n",
            "1875/1875 [==============================] - 5s 2ms/step - loss: 0.1069 - accuracy: 0.9661\n",
            "Epoch 3/50\n",
            "1875/1875 [==============================] - 5s 2ms/step - loss: 0.0727 - accuracy: 0.9769\n",
            "Epoch 4/50\n",
            "1875/1875 [==============================] - 5s 3ms/step - loss: 0.0548 - accuracy: 0.9821\n",
            "Epoch 5/50\n",
            "1875/1875 [==============================] - 5s 3ms/step - loss: 0.0410 - accuracy: 0.9867\n",
            "Epoch 6/50\n",
            "1875/1875 [==============================] - 5s 3ms/step - loss: 0.0321 - accuracy: 0.9894\n",
            "Epoch 7/50\n",
            "1875/1875 [==============================] - 5s 3ms/step - loss: 0.0265 - accuracy: 0.9908\n",
            "Epoch 8/50\n",
            "1875/1875 [==============================] - 5s 3ms/step - loss: 0.0213 - accuracy: 0.9924\n",
            "Epoch 9/50\n",
            "1875/1875 [==============================] - 5s 3ms/step - loss: 0.0168 - accuracy: 0.9942\n",
            "Epoch 10/50\n",
            "1875/1875 [==============================] - 5s 3ms/step - loss: 0.0151 - accuracy: 0.9949\n",
            "Epoch 11/50\n",
            "1875/1875 [==============================] - 5s 2ms/step - loss: 0.0146 - accuracy: 0.9945\n",
            "Epoch 12/50\n",
            "1875/1875 [==============================] - 5s 3ms/step - loss: 0.0131 - accuracy: 0.9956\n",
            "Epoch 13/50\n",
            "1875/1875 [==============================] - 5s 3ms/step - loss: 0.0116 - accuracy: 0.9959\n",
            "Epoch 14/50\n",
            "1875/1875 [==============================] - 5s 3ms/step - loss: 0.0097 - accuracy: 0.9970\n",
            "Epoch 15/50\n",
            "1875/1875 [==============================] - 5s 2ms/step - loss: 0.0106 - accuracy: 0.9964\n",
            "Epoch 16/50\n",
            "1875/1875 [==============================] - 5s 3ms/step - loss: 0.0095 - accuracy: 0.9969\n",
            "Epoch 17/50\n",
            "1875/1875 [==============================] - 5s 3ms/step - loss: 0.0101 - accuracy: 0.9966\n",
            "Epoch 18/50\n",
            "1875/1875 [==============================] - 5s 3ms/step - loss: 0.0084 - accuracy: 0.9972\n",
            "Epoch 19/50\n",
            "1875/1875 [==============================] - 5s 3ms/step - loss: 0.0079 - accuracy: 0.9974\n",
            "Epoch 20/50\n",
            "1875/1875 [==============================] - 5s 3ms/step - loss: 0.0088 - accuracy: 0.9971\n",
            "Epoch 21/50\n",
            "1875/1875 [==============================] - 5s 3ms/step - loss: 0.0080 - accuracy: 0.9974\n",
            "Epoch 22/50\n",
            "1875/1875 [==============================] - 5s 3ms/step - loss: 0.0065 - accuracy: 0.9977\n",
            "Epoch 23/50\n",
            "1875/1875 [==============================] - 5s 3ms/step - loss: 0.0082 - accuracy: 0.9971\n",
            "Epoch 24/50\n",
            "1875/1875 [==============================] - 5s 3ms/step - loss: 0.0086 - accuracy: 0.9971\n",
            "Epoch 25/50\n",
            "1875/1875 [==============================] - 5s 3ms/step - loss: 0.0053 - accuracy: 0.9983\n",
            "Epoch 26/50\n",
            "1875/1875 [==============================] - 5s 3ms/step - loss: 0.0068 - accuracy: 0.9978\n",
            "Epoch 27/50\n",
            "1875/1875 [==============================] - 5s 2ms/step - loss: 0.0061 - accuracy: 0.9979\n",
            "Epoch 28/50\n",
            "1875/1875 [==============================] - 5s 3ms/step - loss: 0.0071 - accuracy: 0.9976\n",
            "Epoch 29/50\n",
            "1875/1875 [==============================] - 5s 2ms/step - loss: 0.0045 - accuracy: 0.9987\n",
            "Epoch 30/50\n",
            "1875/1875 [==============================] - 5s 3ms/step - loss: 0.0051 - accuracy: 0.9984\n",
            "Epoch 31/50\n",
            "1875/1875 [==============================] - 5s 3ms/step - loss: 0.0093 - accuracy: 0.9972\n",
            "Epoch 32/50\n",
            "1875/1875 [==============================] - 5s 3ms/step - loss: 0.0028 - accuracy: 0.9992\n",
            "Epoch 33/50\n",
            "1875/1875 [==============================] - 5s 3ms/step - loss: 0.0070 - accuracy: 0.9977\n",
            "Epoch 34/50\n",
            "1875/1875 [==============================] - 5s 2ms/step - loss: 0.0053 - accuracy: 0.9983\n",
            "Epoch 35/50\n",
            "1875/1875 [==============================] - 5s 3ms/step - loss: 0.0044 - accuracy: 0.9986\n",
            "Epoch 36/50\n",
            "1875/1875 [==============================] - 5s 3ms/step - loss: 0.0064 - accuracy: 0.9981\n",
            "Epoch 37/50\n",
            "1875/1875 [==============================] - 5s 3ms/step - loss: 0.0038 - accuracy: 0.9987\n",
            "Epoch 38/50\n",
            "1875/1875 [==============================] - 5s 3ms/step - loss: 0.0060 - accuracy: 0.9982\n",
            "Epoch 39/50\n",
            "1875/1875 [==============================] - 5s 3ms/step - loss: 0.0048 - accuracy: 0.9986\n",
            "Epoch 40/50\n",
            "1875/1875 [==============================] - 5s 2ms/step - loss: 0.0055 - accuracy: 0.9982\n",
            "Epoch 41/50\n",
            "1875/1875 [==============================] - 5s 3ms/step - loss: 0.0040 - accuracy: 0.9988\n",
            "Epoch 42/50\n",
            "1875/1875 [==============================] - 5s 3ms/step - loss: 0.0043 - accuracy: 0.9987\n",
            "Epoch 43/50\n",
            "1875/1875 [==============================] - 5s 3ms/step - loss: 0.0058 - accuracy: 0.9983\n",
            "Epoch 44/50\n",
            "1875/1875 [==============================] - 5s 3ms/step - loss: 0.0049 - accuracy: 0.9986\n",
            "Epoch 45/50\n",
            "1875/1875 [==============================] - 5s 3ms/step - loss: 0.0051 - accuracy: 0.9985\n",
            "Epoch 46/50\n",
            "1875/1875 [==============================] - 5s 3ms/step - loss: 0.0033 - accuracy: 0.9990\n",
            "Epoch 47/50\n",
            "1875/1875 [==============================] - 5s 2ms/step - loss: 0.0048 - accuracy: 0.9985\n",
            "Epoch 48/50\n",
            "1875/1875 [==============================] - 5s 3ms/step - loss: 0.0052 - accuracy: 0.9987\n",
            "Epoch 49/50\n",
            "1875/1875 [==============================] - 5s 3ms/step - loss: 0.0042 - accuracy: 0.9988\n",
            "Epoch 50/50\n",
            "1875/1875 [==============================] - 5s 3ms/step - loss: 0.0044 - accuracy: 0.9987\n"
          ]
        },
        {
          "output_type": "execute_result",
          "data": {
            "text/plain": [
              "<keras.callbacks.History at 0x7f7bfb8ecad0>"
            ]
          },
          "metadata": {},
          "execution_count": 239
        }
      ]
    },
    {
      "cell_type": "code",
      "source": [
        "trainsety.shape"
      ],
      "metadata": {
        "colab": {
          "base_uri": "https://localhost:8080/"
        },
        "id": "UlycA_3BDzkG",
        "outputId": "4e3ae9d6-19e7-49ab-944f-86fc3af4eafd"
      },
      "execution_count": 240,
      "outputs": [
        {
          "output_type": "execute_result",
          "data": {
            "text/plain": [
              "(60000,)"
            ]
          },
          "metadata": {},
          "execution_count": 240
        }
      ]
    },
    {
      "cell_type": "code",
      "source": [
        "cnn.evaluate(x_test,testsety )"
      ],
      "metadata": {
        "colab": {
          "base_uri": "https://localhost:8080/"
        },
        "id": "vJkJFbTs8V6U",
        "outputId": "14f01377-de15-4a16-bff9-de0a1b5251e3"
      },
      "execution_count": 241,
      "outputs": [
        {
          "output_type": "stream",
          "name": "stdout",
          "text": [
            "313/313 [==============================] - 1s 2ms/step - loss: 0.1911 - accuracy: 0.9776\n"
          ]
        },
        {
          "output_type": "execute_result",
          "data": {
            "text/plain": [
              "[0.19109021127223969, 0.9775999784469604]"
            ]
          },
          "metadata": {},
          "execution_count": 241
        }
      ]
    },
    {
      "cell_type": "code",
      "source": [
        "predict_y = cnn.predict(x_test)\n"
      ],
      "metadata": {
        "id": "bcyZhyDL2Ekw"
      },
      "execution_count": 242,
      "outputs": []
    },
    {
      "cell_type": "code",
      "source": [
        "predict_y"
      ],
      "metadata": {
        "colab": {
          "base_uri": "https://localhost:8080/"
        },
        "id": "O3IMPscH2BJv",
        "outputId": "fcd175a6-2b53-46d8-a6de-deaac6ef5e03"
      },
      "execution_count": 243,
      "outputs": [
        {
          "output_type": "execute_result",
          "data": {
            "text/plain": [
              "array([[6.00929981e-15, 2.54426436e-06, 2.46375834e-07, ...,\n",
              "        1.00000000e+00, 5.37041411e-10, 9.30157995e-08],\n",
              "       [2.73459186e-21, 9.99999523e-01, 1.00000000e+00, ...,\n",
              "        7.96868109e-16, 4.45025156e-10, 3.68255344e-33],\n",
              "       [4.13635733e-14, 1.00000000e+00, 1.90754054e-06, ...,\n",
              "        1.34709335e-05, 3.20761941e-08, 6.80121507e-18],\n",
              "       ...,\n",
              "       [4.46604369e-13, 2.82741816e-11, 3.24822357e-11, ...,\n",
              "        1.56927571e-09, 7.88393850e-10, 2.12877989e-04],\n",
              "       [1.18159180e-15, 4.06720654e-18, 4.03464730e-14, ...,\n",
              "        5.47576572e-16, 1.21783733e-01, 1.49214951e-25],\n",
              "       [6.20154901e-14, 2.71804367e-11, 2.66169611e-08, ...,\n",
              "        5.62867195e-25, 5.22766811e-07, 8.38479383e-21]], dtype=float32)"
            ]
          },
          "metadata": {},
          "execution_count": 243
        }
      ]
    },
    {
      "cell_type": "code",
      "source": [
        "predict_y_labels = [np.argmax(j) for j in predict_y]"
      ],
      "metadata": {
        "id": "AOlAVJwrEaQb"
      },
      "execution_count": 244,
      "outputs": []
    },
    {
      "cell_type": "code",
      "source": [
        "predict_y_labels[0]"
      ],
      "metadata": {
        "colab": {
          "base_uri": "https://localhost:8080/"
        },
        "id": "ZyKLUSzSE0Of",
        "outputId": "cd4363b4-c0d6-47c3-b957-0e2aac718bcd"
      },
      "execution_count": 245,
      "outputs": [
        {
          "output_type": "execute_result",
          "data": {
            "text/plain": [
              "7"
            ]
          },
          "metadata": {},
          "execution_count": 245
        }
      ]
    },
    {
      "cell_type": "code",
      "source": [
        "con_matrix = tf.math.confusion_matrix(labels = testsety, predictions = predict_y_labels)"
      ],
      "metadata": {
        "id": "7ME3r8BmE5La"
      },
      "execution_count": 246,
      "outputs": []
    },
    {
      "cell_type": "code",
      "source": [
        "from tensorflow.python.ops import confusion_matrix\n",
        "import seaborn as sns\n",
        "plt.figure(figsize = (10,8))\n",
        "sns.heatmap(con_matrix, annot = True, fmt=\"d\")"
      ],
      "metadata": {
        "colab": {
          "base_uri": "https://localhost:8080/",
          "height": 500
        },
        "id": "ljpOF5dOFvFl",
        "outputId": "98c5c831-f27f-445b-c6c0-0a49b56440e2"
      },
      "execution_count": 247,
      "outputs": [
        {
          "output_type": "execute_result",
          "data": {
            "text/plain": [
              "<matplotlib.axes._subplots.AxesSubplot at 0x7f7bfa7c5850>"
            ]
          },
          "metadata": {},
          "execution_count": 247
        },
        {
          "output_type": "display_data",
          "data": {
            "text/plain": [
              "<Figure size 720x576 with 2 Axes>"
            ],
            "image/png": "[encoded data removed]"
          },
          "metadata": {
            "needs_background": "light"
          }
        }
      ]
    },
    {
      "cell_type": "code",
      "source": [
        ""
      ],
      "metadata": {
        "id": "t6xQ0LZWGfRp"
      },
      "execution_count": 247,
      "outputs": []
    }
  ]
}